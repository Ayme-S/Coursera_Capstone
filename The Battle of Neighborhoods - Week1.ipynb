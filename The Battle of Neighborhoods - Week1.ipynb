{
 "cells": [
  {
   "cell_type": "markdown",
   "metadata": {},
   "source": [
    "<h1 align=center><font size = 6>The Battle of Neighborhoods</font></h1>\n",
    "<h1 align=center><font size = 6>Looking for places in England to start a Bandeoke business</font></h1>"
   ]
  },
  {
   "cell_type": "markdown",
   "metadata": {},
   "source": [
    "# 1. Business problem "
   ]
  },
  {
   "cell_type": "markdown",
   "metadata": {},
   "source": [
    "England has been the cradle of diverse rock artists and bands that have changed the  musical scene worlwide. From psychedelic to indie, passing trough progressive and punk, british rock has contributed to a great variety of styles and still has a great influence in present mainstream and underground scene. That's why music lovers arrive every year to visit historical music places, go to concerts and enjoy nightlife. \n",
    "But, what are the musical preferences of every city in England? I'll draft this by clasifying the main artists and rock bands representing every musical genre and identifying its origin city. This would help tourists keen on music to define the best cities to visit, event promoters to set the city to organize a concert and entrepreunors to start a business on music.\n",
    "For this project purposes, I'll focus on the point of view of an entrepreunor who is interested in starting a Bandeoke business pointed to underground music (punk and post-punk). Once the best city is selected, in terms of its musical taste, I'll explore the neighborhoods in it to choice the best to set the location of the Bandeoke.\n"
   ]
  },
  {
   "cell_type": "markdown",
   "metadata": {},
   "source": [
    "# 2. Data"
   ]
  },
  {
   "cell_type": "markdown",
   "metadata": {},
   "source": [
    "## 2.1. For music data "
   ]
  },
  {
   "cell_type": "markdown",
   "metadata": {},
   "source": [
    "As I didn't find a dataset with rock bands classified by city of origin and genre, I'll rely on different sources like Wikipedia where I found a list of bands by origin city in this URL:\n",
    "https://en.wikipedia.org/wiki/List_of_music_artists_and_bands_from_England"
   ]
  },
  {
   "cell_type": "markdown",
   "metadata": {},
   "source": [
    "With respect to genres, there is an infinity of sub-genres and several artists and bands that have tried a mix of them. This makes it difficult to label a band with a specific genre what it somehow explains the absence of a dataset available to supply this information. To overcome this inconvenient and simplyfy the analysis, I decide to work with supergenres (psychedelic rock, progressive rock, hard rock, glam, heavy metal, punk, post-punk and indie) and rely on this website: https://www.music-map.com/."
   ]
  },
  {
   "cell_type": "markdown",
   "metadata": {},
   "source": [
    "In this website there is an interactive map that visually plots an specific artist with others closest in style. For example, thinking about a band representative of post-punk (Joy Division), the map shows the next bands closest in style to it:"
   ]
  },
  {
   "cell_type": "markdown",
   "metadata": {},
   "source": [
    "## 2.1. For location data "
   ]
  },
  {
   "cell_type": "markdown",
   "metadata": {},
   "source": [
    "After decidying the city recommended to start the busyness, I'll search for websites containing location information that can be easily scraped. Then I'll use Beautifulsoup library to extract the information so I can query the Foursquare API database. For example, I'll use these sources of data:"
   ]
  },
  {
   "cell_type": "markdown",
   "metadata": {},
   "source": [
    "- The neigborhoods of the city chosen in Wikipedia.\n",
    "- The coordinates (latitude, longitude) of neigborhoods in the city chosen in Open Street Map APIs"
   ]
  },
  {
   "cell_type": "markdown",
   "metadata": {},
   "source": [
    "I found json files available in these urls:"
   ]
  },
  {
   "cell_type": "markdown",
   "metadata": {},
   "source": [
    "https://martinjc.github.io/UK-GeoJSON/"
   ]
  },
  {
   "cell_type": "raw",
   "metadata": {},
   "source": [
    "https://github.com/deldersveld/topojson/blob/master/countries/united-kingdom/uk-counties.json"
   ]
  },
  {
   "cell_type": "markdown",
   "metadata": {},
   "source": [
    "## 2.3. Foursquare"
   ]
  },
  {
   "cell_type": "markdown",
   "metadata": {},
   "source": [
    "I will get the top 100 venues that are within a radius of 500 meters from the center point of each neighborhood of the city chosen. This venues have to be associate with music, for example, music stores, rock clubs, piano bars, concert halls. Next, I'll get the categories of this venues to make a one-hot encoding representation. "
   ]
  }
 ],
 "metadata": {
  "kernelspec": {
   "display_name": "Python 3",
   "language": "python",
   "name": "python3"
  },
  "language_info": {
   "codemirror_mode": {
    "name": "ipython",
    "version": 3
   },
   "file_extension": ".py",
   "mimetype": "text/x-python",
   "name": "python",
   "nbconvert_exporter": "python",
   "pygments_lexer": "ipython3",
   "version": "3.7.3"
  }
 },
 "nbformat": 4,
 "nbformat_minor": 2
}
